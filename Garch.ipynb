{
 "cells": [
  {
   "cell_type": "markdown",
   "id": "ce0f5e7c",
   "metadata": {},
   "source": [
    "# Project: Volatility Forecasting for NVDA using GARCH family models."
   ]
  },
  {
   "cell_type": "markdown",
   "id": "3df2ab7e",
   "metadata": {},
   "source": [
    "## Introduction"
   ]
  },
  {
   "cell_type": "markdown",
   "id": "3e0b0486",
   "metadata": {},
   "source": [
    "1. What is my objective?\n",
    "    - Analyze the volatility of NVDA using GARCH family models (GARCH, EGARCH, TGARCH, IGARCH).\n",
    "    - Identify which model best captures stylized fact (volatility clustering, fat tails, leverage effects and etc).\n",
    "    - Compare short-term (1-day ahead) volatility forecasts using RMSE on out-of-sample data.\n",
    "\n",
    "2. What business get?\n",
    "    - Anticipating volatility helps improve portfolio weight allocation.\n",
    "    - Volatility forecasts can be used as signals to support stock recommendations.\n",
    "\n",
    "3. Understand the dataset\n",
    "    - Source: NVDA (NVIDIA Corporation) daily stock prices were downloaded from Yahoo Finance using the yfinance API.\n",
    "    - Period: \n",
    "        - In-sample: 2015-01-01 to 2024-12-31\n",
    "        - Out-of-sample: 2025-01-01 to 2025-10-02\n",
    "    - Frequency: Daily closing prices (adjusted for dividends and stock splits).\n",
    "    - About NVDA:\n",
    "        - NVIDIA is a leading U.S. technology stock in the semiconductor industry, known for its GPUs widely used in gaming, AI, data centers, and autonomous vehicles.\n",
    "        - The stock is part of the Nasdaq-100 index and is considered a high-beta, high-volatility growth stock.\n",
    "        - Especially after 2020 (post-COVID), NVDA experienced explosive growth driven by AI demand, leading to higher volatility compared to many traditional sectors.\n",
    "    - Why NVDA is suitable for GARCH family models:\n",
    "        - Daily returns show heteroskedasticity (ARCH effect) even after fitting ARIMA to remove autocorrelation.\n",
    "        - This makes NVDA a strong candidate for volatility modeling with GARCH, EGARCH, TGARCH, IGARCH to capture persistence, fat tails, and possible leverage effect."
   ]
  },
  {
   "cell_type": "markdown",
   "id": "b170cee0",
   "metadata": {},
   "source": [
    "## Plans"
   ]
  },
  {
   "cell_type": "markdown",
   "id": "09a9bf99",
   "metadata": {},
   "source": [
    "1. Dowload and Explore data\n",
    "2. GARCH Modeling\n",
    "3. Family GARCH Forecasting\n",
    "4. Result\n",
    "5. Conclusion"
   ]
  },
  {
   "cell_type": "markdown",
   "id": "80a9dcfb",
   "metadata": {},
   "source": [
    "## 0. Setup basics library & data"
   ]
  },
  {
   "cell_type": "code",
   "execution_count": 1,
   "id": "d2f76bcd",
   "metadata": {},
   "outputs": [],
   "source": [
    "import yfinance as yf\n",
    "import numpy as np\n",
    "import pandas as pd\n",
    "import matplotlib.pyplot as plt\n",
    "import seaborn as sns\n",
    "from statsmodels.tsa.stattools import adfuller\n",
    "import statsmodels.api as sm\n",
    "from arch import arch_model\n",
    "from statsmodels.graphics.tsaplots import plot_acf, plot_pacf\n",
    "from statsmodels.stats.diagnostic import het_arch\n",
    "from statsmodels.stats.diagnostic import acorr_ljungbox\n",
    "from arch.univariate import ConstantMean, RiskMetrics2006, StudentsT, GeneralizedError"
   ]
  },
  {
   "cell_type": "code",
   "execution_count": 3,
   "id": "e14890d5",
   "metadata": {},
   "outputs": [
    {
     "name": "stderr",
     "output_type": "stream",
     "text": [
      "[*********************100%***********************]  1 of 1 completed\n"
     ]
    }
   ],
   "source": [
    "nvda = yf.download(\"NVDA\", start=\"2015-01-01\", interval=\"1d\", auto_adjust=True)\n",
    "nvda['r'] = np.log(nvda['Close']).diff().dropna()\n",
    "nvda = nvda.dropna()\n",
    "\n",
    "# Split data\n",
    "train = nvda.loc[\"2015-01-01\":\"2024-12-31\"].copy()\n",
    "test  = nvda.loc[\"2025-01-01\":].copy()"
   ]
  },
  {
   "cell_type": "markdown",
   "id": "0e8695a0",
   "metadata": {},
   "source": [
    "## 1. Explore data"
   ]
  },
  {
   "cell_type": "markdown",
   "id": "fa1a66b7",
   "metadata": {},
   "source": [
    "### 1.1 View data\n",
    "- You can see that NVDA all time high is 188.139 and best return in one day is 26.08%, as 02/10/2568"
   ]
  },
  {
   "cell_type": "code",
   "execution_count": null,
   "id": "2736703d",
   "metadata": {},
   "outputs": [
    {
     "data": {
      "text/html": [
       "<div>\n",
       "<style scoped>\n",
       "    .dataframe tbody tr th:only-of-type {\n",
       "        vertical-align: middle;\n",
       "    }\n",
       "\n",
       "    .dataframe tbody tr th {\n",
       "        vertical-align: top;\n",
       "    }\n",
       "\n",
       "    .dataframe thead tr th {\n",
       "        text-align: left;\n",
       "    }\n",
       "</style>\n",
       "<table border=\"1\" class=\"dataframe\">\n",
       "  <thead>\n",
       "    <tr>\n",
       "      <th>Price</th>\n",
       "      <th>Close</th>\n",
       "      <th>High</th>\n",
       "      <th>Low</th>\n",
       "      <th>Open</th>\n",
       "      <th>Volume</th>\n",
       "      <th>r</th>\n",
       "    </tr>\n",
       "    <tr>\n",
       "      <th>Ticker</th>\n",
       "      <th>NVDA</th>\n",
       "      <th>NVDA</th>\n",
       "      <th>NVDA</th>\n",
       "      <th>NVDA</th>\n",
       "      <th>NVDA</th>\n",
       "      <th></th>\n",
       "    </tr>\n",
       "  </thead>\n",
       "  <tbody>\n",
       "    <tr>\n",
       "      <th>count</th>\n",
       "      <td>2702.000000</td>\n",
       "      <td>2702.000000</td>\n",
       "      <td>2702.000000</td>\n",
       "      <td>2702.000000</td>\n",
       "      <td>2.702000e+03</td>\n",
       "      <td>2702.000000</td>\n",
       "    </tr>\n",
       "    <tr>\n",
       "      <th>mean</th>\n",
       "      <td>29.253693</td>\n",
       "      <td>29.753625</td>\n",
       "      <td>28.687640</td>\n",
       "      <td>29.243754</td>\n",
       "      <td>4.515127e+08</td>\n",
       "      <td>0.002206</td>\n",
       "    </tr>\n",
       "    <tr>\n",
       "      <th>std</th>\n",
       "      <td>44.530119</td>\n",
       "      <td>45.235627</td>\n",
       "      <td>43.713961</td>\n",
       "      <td>44.525096</td>\n",
       "      <td>2.531692e+08</td>\n",
       "      <td>0.030615</td>\n",
       "    </tr>\n",
       "    <tr>\n",
       "      <th>min</th>\n",
       "      <td>0.459282</td>\n",
       "      <td>0.467921</td>\n",
       "      <td>0.454483</td>\n",
       "      <td>0.463602</td>\n",
       "      <td>5.244800e+07</td>\n",
       "      <td>-0.207712</td>\n",
       "    </tr>\n",
       "    <tr>\n",
       "      <th>25%</th>\n",
       "      <td>3.702681</td>\n",
       "      <td>3.793865</td>\n",
       "      <td>3.631850</td>\n",
       "      <td>3.728045</td>\n",
       "      <td>2.879000e+08</td>\n",
       "      <td>-0.012479</td>\n",
       "    </tr>\n",
       "    <tr>\n",
       "      <th>50%</th>\n",
       "      <td>8.456651</td>\n",
       "      <td>8.534106</td>\n",
       "      <td>7.905252</td>\n",
       "      <td>8.236488</td>\n",
       "      <td>4.001260e+08</td>\n",
       "      <td>0.002668</td>\n",
       "    </tr>\n",
       "    <tr>\n",
       "      <th>75%</th>\n",
       "      <td>27.067514</td>\n",
       "      <td>27.467537</td>\n",
       "      <td>26.574182</td>\n",
       "      <td>27.045278</td>\n",
       "      <td>5.454242e+08</td>\n",
       "      <td>0.017585</td>\n",
       "    </tr>\n",
       "    <tr>\n",
       "      <th>max</th>\n",
       "      <td>187.240005</td>\n",
       "      <td>188.139999</td>\n",
       "      <td>183.899994</td>\n",
       "      <td>185.240005</td>\n",
       "      <td>3.692928e+09</td>\n",
       "      <td>0.260877</td>\n",
       "    </tr>\n",
       "  </tbody>\n",
       "</table>\n",
       "</div>"
      ],
      "text/plain": [
       "Price         Close         High          Low         Open        Volume  \\\n",
       "Ticker         NVDA         NVDA         NVDA         NVDA          NVDA   \n",
       "count   2702.000000  2702.000000  2702.000000  2702.000000  2.702000e+03   \n",
       "mean      29.253693    29.753625    28.687640    29.243754  4.515127e+08   \n",
       "std       44.530119    45.235627    43.713961    44.525096  2.531692e+08   \n",
       "min        0.459282     0.467921     0.454483     0.463602  5.244800e+07   \n",
       "25%        3.702681     3.793865     3.631850     3.728045  2.879000e+08   \n",
       "50%        8.456651     8.534106     7.905252     8.236488  4.001260e+08   \n",
       "75%       27.067514    27.467537    26.574182    27.045278  5.454242e+08   \n",
       "max      187.240005   188.139999   183.899994   185.240005  3.692928e+09   \n",
       "\n",
       "Price             r  \n",
       "Ticker               \n",
       "count   2702.000000  \n",
       "mean       0.002206  \n",
       "std        0.030615  \n",
       "min       -0.207712  \n",
       "25%       -0.012479  \n",
       "50%        0.002668  \n",
       "75%        0.017585  \n",
       "max        0.260877  "
      ]
     },
     "execution_count": 4,
     "metadata": {},
     "output_type": "execute_result"
    }
   ],
   "source": [
    "# Check basic statistic\n",
    "nvda.describe()"
   ]
  },
  {
   "cell_type": "code",
   "execution_count": null,
   "id": "ed910abf",
   "metadata": {},
   "outputs": [
    {
     "name": "stdout",
     "output_type": "stream",
     "text": [
      "<class 'pandas.core.frame.DataFrame'>\n",
      "DatetimeIndex: 2702 entries, 2015-01-05 to 2025-10-01\n",
      "Data columns (total 6 columns):\n",
      " #   Column          Non-Null Count  Dtype  \n",
      "---  ------          --------------  -----  \n",
      " 0   (Close, NVDA)   2702 non-null   float64\n",
      " 1   (High, NVDA)    2702 non-null   float64\n",
      " 2   (Low, NVDA)     2702 non-null   float64\n",
      " 3   (Open, NVDA)    2702 non-null   float64\n",
      " 4   (Volume, NVDA)  2702 non-null   int64  \n",
      " 5   (r, )           2702 non-null   float64\n",
      "dtypes: float64(5), int64(1)\n",
      "memory usage: 212.3 KB\n"
     ]
    }
   ],
   "source": [
    "# Check datatype\n",
    "nvda.info()"
   ]
  },
  {
   "cell_type": "markdown",
   "id": "c0ad1d4a",
   "metadata": {},
   "source": [
    "### 1.2 Plot\n",
    "- From the daily return, it appears that there is no clear seasonality. There is no need to adjust the seasonality unless using intraday data.\n",
    "- The stock price was \"sideways\" from 2015 to 2019.\n",
    "- After COVID-19, NVDA's price began to surge, particularly in 2023–2024, indicating a structural break/regime shift.\n",
    "- The return graph (bottom) clearly shows periods of sustained strong returns (e.g., during the 2020 COVID crash, the 2022 Fed rate hike, and the 2023 rally).\n",
    "- This is the \"stylized fact\" that the GARCH family is designed to address.\n",
    "- After 2023, volatility will not only be temporary but persistent."
   ]
  },
  {
   "cell_type": "code",
   "execution_count": 8,
   "id": "6a3f0d66",
   "metadata": {},
   "outputs": [
    {
     "data": {
      "image/png": "[encoded data removed]",
      "text/plain": [
       "<Figure size 1200x600 with 2 Axes>"
      ]
     },
     "metadata": {},
     "output_type": "display_data"
    }
   ],
   "source": [
    "plt.figure(figsize=(12,6))\n",
    "plt.subplot(2,1,1)\n",
    "plt.plot(nvda['Close'], label=\"NVDA Price\", color=\"blue\")\n",
    "plt.title(\"NVDA Adjusted Close Price (2015 - Present)\")\n",
    "plt.ylabel(\"Price (USD)\")\n",
    "plt.legend()\n",
    "\n",
    "plt.subplot(2,1,2)\n",
    "plt.plot(nvda['r'], label=\"Daily Log Return\", color=\"red\")\n",
    "plt.title(\"NVDA Daily Log Return\")\n",
    "plt.ylabel(\"Return\")\n",
    "plt.xlabel(\"Date\")\n",
    "plt.legend()\n",
    "\n",
    "plt.tight_layout()\n",
    "plt.show()"
   ]
  },
  {
   "cell_type": "markdown",
   "id": "707b9277",
   "metadata": {},
   "source": [
    "### 1.3 Data distribution\n",
    "- The distribution is narrow in the center but has long tails on both sides (fat tails). \n",
    "- It is not a normal distribution because it has a high peak and fat tails.\n",
    "- A heavy-tailed distribution (Student-t, GED) should be used in GARCH.\n",
    "- Volatility clustering and fat tails confirm the appropriateness of using GARCH family models."
   ]
  },
  {
   "cell_type": "code",
   "execution_count": 12,
   "id": "88dd0e7a",
   "metadata": {},
   "outputs": [
    {
     "data": {
      "image/png": "[encoded data removed]",
      "text/plain": [
       "<Figure size 1000x400 with 1 Axes>"
      ]
     },
     "metadata": {},
     "output_type": "display_data"
    }
   ],
   "source": [
    "plt.figure(figsize=(10,4))\n",
    "sns.histplot(nvda['r'].dropna(), bins=100, kde=True, color='purple')\n",
    "plt.title(\"NVDA Daily Log Returns Distribution (2015 - Present)\")\n",
    "plt.xlabel(\"Log Return\")\n",
    "plt.ylabel(\"Frequency\")\n",
    "plt.show()"
   ]
  },
  {
   "cell_type": "markdown",
   "id": "e3e5660b",
   "metadata": {},
   "source": [
    "## 2. GARCH Modeling"
   ]
  },
  {
   "cell_type": "markdown",
   "id": "829ba472",
   "metadata": {},
   "source": [
    "### 2.1 Check Stationary\n",
    "- ADF Statistic (-18.539) < Critical Value at 1% (-3.432)\n",
    "- P-value is almost zero (much less than 0.05)\n",
    "- Null hypothesis rejected (H₀: unit root/non-stationary)\n",
    "- Meaning: Data have constant mean and variance, no significant trend or seasonality"
   ]
  },
  {
   "cell_type": "code",
   "execution_count": 16,
   "id": "19fb18d5",
   "metadata": {},
   "outputs": [
    {
     "name": "stdout",
     "output_type": "stream",
     "text": [
      "ADF Statistic: -18.539801859299086\n",
      "p-value: 2.0983178072176254e-30\n",
      "Critical Values: {'1%': -3.4327796740267975, '5%': -2.862613451060739, '10%': -2.56734143381123}\n"
     ]
    }
   ],
   "source": [
    "adftest = adfuller(nvda[\"r\"])\n",
    "\n",
    "print(f'ADF Statistic: {adftest[0]}')\n",
    "print(f'p-value: {adftest[1]}')\n",
    "print(f'Critical Values: {adftest[4]}')"
   ]
  },
  {
   "cell_type": "markdown",
   "id": "7534dd98",
   "metadata": {},
   "source": [
    "### 2.2 Choose lag\n",
    "- There is a high correlation both ACF and PACF on lag 1\n",
    "- So I will use AR(1) from PACF and MA(1) from ACF"
   ]
  },
  {
   "cell_type": "code",
   "execution_count": null,
   "id": "c08987fd",
   "metadata": {},
   "outputs": [
    {
     "data": {
      "image/png": "[encoded data removed]",
      "text/plain": [
       "<Figure size 1000x400 with 2 Axes>"
      ]
     },
     "metadata": {},
     "output_type": "display_data"
    }
   ],
   "source": [
    "r = (nvda['r'].dropna())\n",
    "\n",
    "# Watch ACF/PACF of log return to see dynamic for choosing lag\n",
    "fig, ax = plt.subplots(1,2, figsize=(10,4))\n",
    "plot_acf(r, lags=30, ax=ax[0]); ax[0].set_title(\"ACF returns\")\n",
    "plot_pacf(r, lags=30, ax=ax[1]); ax[1].set_title(\"PACF returns\")\n",
    "plt.tight_layout(); plt.show()"
   ]
  },
  {
   "cell_type": "markdown",
   "id": "d403308b",
   "metadata": {},
   "source": [
    "### 2.3 Check Autocorrelation\n",
    "- Not reject Null hypothesis (P-value > 0.05) \n",
    "- Which means there is no autocorrelation."
   ]
  },
  {
   "cell_type": "code",
   "execution_count": null,
   "id": "c741db86",
   "metadata": {},
   "outputs": [
    {
     "name": "stdout",
     "output_type": "stream",
     "text": [
      "    lb_stat  lb_pvalue\n",
      "1  0.000006   0.998060\n",
      "2  0.011170   0.994430\n",
      "3  0.012024   0.999651\n",
      "4  0.529113   0.970606\n",
      "5  0.621532   0.986996\n"
     ]
    },
    {
     "name": "stderr",
     "output_type": "stream",
     "text": [
      "c:\\Users\\User\\anaconda3\\Lib\\site-packages\\statsmodels\\tsa\\base\\tsa_model.py:473: ValueWarning: A date index has been provided, but it has no associated frequency information and so will be ignored when e.g. forecasting.\n",
      "  self._init_dates(dates, freq)\n",
      "c:\\Users\\User\\anaconda3\\Lib\\site-packages\\statsmodels\\tsa\\base\\tsa_model.py:473: ValueWarning: A date index has been provided, but it has no associated frequency information and so will be ignored when e.g. forecasting.\n",
      "  self._init_dates(dates, freq)\n",
      "c:\\Users\\User\\anaconda3\\Lib\\site-packages\\statsmodels\\tsa\\base\\tsa_model.py:473: ValueWarning: A date index has been provided, but it has no associated frequency information and so will be ignored when e.g. forecasting.\n",
      "  self._init_dates(dates, freq)\n"
     ]
    }
   ],
   "source": [
    "# ARIMA(1,0,1)\n",
    "arima1 = sm.tsa.ARIMA(r, order=(1,0,1)).fit()\n",
    "resid_mean = arima1.resid\n",
    "\n",
    "# Use Ljung–Box to see residual if there any serial correlation.\n",
    "print(acorr_ljungbox(resid_mean, lags=[1,2,3,4,5], return_df=True))"
   ]
  },
  {
   "cell_type": "markdown",
   "id": "0390f6fc",
   "metadata": {},
   "source": [
    "### 2.4 Check ARCH effects\n",
    "- Reject Null hypothesis (LM-value < 0.05)\n",
    "- Which means there is ARCH effect, so we can use ARCH or GARCH.\n",
    "- There is peak in lag 1 both ACF, PACF which mean we can use GARCH(1,1)."
   ]
  },
  {
   "cell_type": "code",
   "execution_count": null,
   "id": "896f3185",
   "metadata": {},
   "outputs": [
    {
     "name": "stdout",
     "output_type": "stream",
     "text": [
      "{'LM pvalue': 1.841622643118219e-11, 'F pvalue': 1.2945973415943102e-11}\n"
     ]
    },
    {
     "data": {
      "image/png": "[encoded data removed]",
      "text/plain": [
       "<Figure size 1200x400 with 2 Axes>"
      ]
     },
     "metadata": {},
     "output_type": "display_data"
    }
   ],
   "source": [
    "# H0: No ARCH\n",
    "lm_stat, lm_pvalue, f_stat, f_pvalue = het_arch(resid_mean, nlags=10)\n",
    "print({\"LM pvalue\": lm_pvalue, \"F pvalue\": f_pvalue})\n",
    "\n",
    "# Correlogram of residual^2 for choose GARCH lags\n",
    "fig, ax = plt.subplots(1, 2, figsize=(12,4))\n",
    "plot_acf(resid_mean**2, lags=30, ax=ax[0])\n",
    "ax[0].set_title(\"ACF of residual^2 (mean model)\")\n",
    "plot_pacf(resid_mean**2, lags=30, ax=ax[1], method=\"yw\")\n",
    "ax[1].set_title(\"PACF of residual^2 (mean model)\")\n",
    "\n",
    "plt.tight_layout()\n",
    "plt.show()"
   ]
  },
  {
   "cell_type": "markdown",
   "id": "c1969733",
   "metadata": {},
   "source": [
    "### 2.5 GARCH Modeling, t-distribution\n",
    "- Accept H0, there is no autocorrelation.\n",
    "- There is no ARCH effect in GARCH model which means our model keep all dynamic."
   ]
  },
  {
   "cell_type": "code",
   "execution_count": 54,
   "id": "f7e0ecda",
   "metadata": {},
   "outputs": [
    {
     "name": "stdout",
     "output_type": "stream",
     "text": [
      "                        Constant Mean - GARCH Model Results                         \n",
      "====================================================================================\n",
      "Dep. Variable:                            r   R-squared:                       0.000\n",
      "Mean Model:                   Constant Mean   Adj. R-squared:                  0.000\n",
      "Vol Model:                            GARCH   Log-Likelihood:               -6495.52\n",
      "Distribution:      Standardized Student's t   AIC:                           13001.0\n",
      "Method:                  Maximum Likelihood   BIC:                           13030.5\n",
      "                                              No. Observations:                 2702\n",
      "Date:                      Thu, Oct 02 2025   Df Residuals:                     2701\n",
      "Time:                              22:27:34   Df Model:                            1\n",
      "                               Mean Model                               \n",
      "========================================================================\n",
      "                 coef    std err          t      P>|t|  95.0% Conf. Int.\n",
      "------------------------------------------------------------------------\n",
      "mu             0.2644  4.320e-02      6.121  9.275e-10 [  0.180,  0.349]\n",
      "                             Volatility Model                             \n",
      "==========================================================================\n",
      "                 coef    std err          t      P>|t|    95.0% Conf. Int.\n",
      "--------------------------------------------------------------------------\n",
      "omega          0.2297      0.104      2.215  2.678e-02 [2.642e-02,  0.433]\n",
      "alpha[1]       0.0818  2.205e-02      3.710  2.077e-04 [3.858e-02,  0.125]\n",
      "beta[1]        0.8990  2.842e-02     31.632 1.349e-219   [  0.843,  0.955]\n",
      "                              Distribution                              \n",
      "========================================================================\n",
      "                 coef    std err          t      P>|t|  95.0% Conf. Int.\n",
      "------------------------------------------------------------------------\n",
      "nu             4.2596      0.384     11.080  1.569e-28 [  3.506,  5.013]\n",
      "========================================================================\n",
      "\n",
      "Covariance estimator: robust\n"
     ]
    }
   ],
   "source": [
    "# GARCH(1,1)\n",
    "# Scale to % for stability of varaince estimate.\n",
    "r_pct = r*100\n",
    "\n",
    "am_garch_t = arch_model(r_pct, vol='GARCH', p=1, q=1, mean='Constant', dist='t')\n",
    "res_garch_t = am_garch_t.fit(disp='off')\n",
    "print(res_garch_t.summary())\n",
    "\n",
    "aic1 = res_garch_t.aic\n",
    "bic1 = res_garch_t.bic\n",
    "log_likelihood1 = res_garch_t.loglikelihood"
   ]
  },
  {
   "cell_type": "code",
   "execution_count": 55,
   "id": "5edfea8c",
   "metadata": {},
   "outputs": [
    {
     "name": "stdout",
     "output_type": "stream",
     "text": [
      "    lb_stat  lb_pvalue\n",
      "1  2.270795   0.131832\n",
      "2  2.428554   0.296925\n",
      "3  2.598229   0.457800\n",
      "4  2.627340   0.621988\n",
      "5  2.633804   0.756223\n",
      "{'Post-GARCH LM pvalue': 0.9312525177996864}\n"
     ]
    }
   ],
   "source": [
    "# Hypothesis test after fit GARCH model\n",
    "std_resid = res_garch_t.std_resid\n",
    "\n",
    "# Use Ljung–Box to check if there autocorrelation\n",
    "# Reject H0, there is no autocorrelation\n",
    "print(acorr_ljungbox(std_resid, lags=[1,2,3,4,5], return_df=True))\n",
    "\n",
    "# Check ARCH effect\n",
    "# There is no ARCH effect in GARCH model which means our model keep all dynamic.\n",
    "lm_stat2, lm_pvalue2, _, _ = het_arch(std_resid, nlags=10)\n",
    "print({\"Post-GARCH LM pvalue\": lm_pvalue2})"
   ]
  },
  {
   "cell_type": "markdown",
   "id": "f4242b89",
   "metadata": {},
   "source": [
    "### 2.6 GARCH Modeling, ged distribution\n",
    "- Accept H0, there is no autocorrelation.\n",
    "- There is no ARCH effect in GARCH model which means our model keep all dynamic."
   ]
  },
  {
   "cell_type": "code",
   "execution_count": 56,
   "id": "8aaa7f7a",
   "metadata": {},
   "outputs": [
    {
     "name": "stdout",
     "output_type": "stream",
     "text": [
      "                           Constant Mean - GARCH Model Results                            \n",
      "==========================================================================================\n",
      "Dep. Variable:                                  r   R-squared:                       0.000\n",
      "Mean Model:                         Constant Mean   Adj. R-squared:                  0.000\n",
      "Vol Model:                                  GARCH   Log-Likelihood:               -6523.34\n",
      "Distribution:      Generalized Error Distribution   AIC:                           13056.7\n",
      "Method:                        Maximum Likelihood   BIC:                           13086.2\n",
      "                                                    No. Observations:                 2702\n",
      "Date:                            Thu, Oct 02 2025   Df Residuals:                     2701\n",
      "Time:                                    22:27:40   Df Model:                            1\n",
      "                               Mean Model                               \n",
      "========================================================================\n",
      "                 coef    std err          t      P>|t|  95.0% Conf. Int.\n",
      "------------------------------------------------------------------------\n",
      "mu             0.2765  2.314e-02     11.950  6.495e-33 [  0.231,  0.322]\n",
      "                             Volatility Model                             \n",
      "==========================================================================\n",
      "                 coef    std err          t      P>|t|    95.0% Conf. Int.\n",
      "--------------------------------------------------------------------------\n",
      "omega          0.3822      0.171      2.233  2.552e-02 [4.681e-02,  0.718]\n",
      "alpha[1]       0.0933  2.991e-02      3.121  1.804e-03 [3.472e-02,  0.152]\n",
      "beta[1]        0.8675  4.273e-02     20.301  1.252e-91   [  0.784,  0.951]\n",
      "                              Distribution                              \n",
      "========================================================================\n",
      "                 coef    std err          t      P>|t|  95.0% Conf. Int.\n",
      "------------------------------------------------------------------------\n",
      "nu             1.1172  5.356e-02     20.860  1.238e-96 [  1.012,  1.222]\n",
      "========================================================================\n",
      "\n",
      "Covariance estimator: robust\n"
     ]
    }
   ],
   "source": [
    "am_garch_t = arch_model(r_pct, vol='GARCH', p=1, q=1, mean='Constant', dist='ged')\n",
    "res_garch_t = am_garch_t.fit(disp='off')\n",
    "print(res_garch_t.summary())\n",
    "\n",
    "aic2 = res_garch_t.aic\n",
    "bic2 = res_garch_t.bic\n",
    "log_likelihood2 = res_garch_t.loglikelihood"
   ]
  },
  {
   "cell_type": "code",
   "execution_count": null,
   "id": "746e5060",
   "metadata": {},
   "outputs": [
    {
     "name": "stdout",
     "output_type": "stream",
     "text": [
      "    lb_stat  lb_pvalue\n",
      "1  2.171613   0.140579\n",
      "2  2.326600   0.312453\n",
      "3  2.516659   0.472288\n",
      "4  2.538139   0.637820\n",
      "5  2.544608   0.769763\n",
      "{'Post-GARCH LM pvalue': 0.8953692349659822}\n"
     ]
    }
   ],
   "source": [
    "# Hypothesis test after fit GARCH model\n",
    "std_resid = res_garch_t.std_resid\n",
    "\n",
    "# Use Ljung–Box to check if there autocorrelation\n",
    "# Accept H0, there is no autocorrelation\n",
    "print(acorr_ljungbox(std_resid, lags=[1,2,3,4,5], return_df=True))\n",
    "\n",
    "# Check ARCH effect\n",
    "# There is no ARCH effect in GARCH model which means our model keep all dynamic.\n",
    "lm_stat3, lm_pvalue3, _, _ = het_arch(std_resid, nlags=10)\n",
    "print({\"Post-GARCH LM pvalue\": lm_pvalue3})"
   ]
  },
  {
   "cell_type": "markdown",
   "id": "5d67962d",
   "metadata": {},
   "source": [
    "### 2.7 What difference between using \"t\" and \"ged\" distribution\n",
    "- We can see that using \"t-distribution\" is more appropriate than \"ged distribution\" in GARCH(1,1).\n",
    "- Based on all three lag criteria selection.\n",
    "- AIC/BIC: Lower is better\n",
    "- Log-Likelihood: Higher is better / Less negative\n",
    "- But in this project we will test both."
   ]
  },
  {
   "cell_type": "code",
   "execution_count": 58,
   "id": "4d22815c",
   "metadata": {},
   "outputs": [
    {
     "name": "stdout",
     "output_type": "stream",
     "text": [
      "t_aic = 13001.039807611272, t_bic = 13030.548545203874, t_log_likelihood = -6495.519903805636\n",
      "ged_aic = 13056.675650483388, ged_bic = 13086.18438807599, ged_log_likelihood = -6523.337825241694\n"
     ]
    }
   ],
   "source": [
    "print(f\"t_aic = {aic1}, t_bic = {bic1}, t_log_likelihood = {log_likelihood1}\")\n",
    "print(f\"ged_aic = {aic2}, ged_bic = {bic2}, ged_log_likelihood = {log_likelihood2}\")"
   ]
  },
  {
   "cell_type": "markdown",
   "id": "90e5c1f1",
   "metadata": {},
   "source": [
    "## 3. GRACH Model Validation"
   ]
  },
  {
   "cell_type": "markdown",
   "id": "6e90a79f",
   "metadata": {},
   "source": [
    "### 3.1 Create function for modeling 8 models\n",
    "- IGARCH function is difference from other because the constraint in equation isn't complete in python yet."
   ]
  },
  {
   "cell_type": "code",
   "execution_count": null,
   "id": "e6cf43c2",
   "metadata": {},
   "outputs": [],
   "source": [
    "# Scale to % for stability of varaince estimate.\n",
    "r_train = (train['r'] * 100).dropna()\n",
    "r_test  = (test['r']  * 100).dropna()\n",
    "\n",
    "def oos_var_forecast_fixed_params_generic(r_train, r_test, params,\n",
    "                                          vol='GARCH', p=1, q=1, o=0,\n",
    "                                          mean='Constant', dist='t', lags=None):\n",
    "    \"\"\"1-step-ahead OOS variance (fixed params) for GARCH, EGARCH, TGARCH\"\"\"\n",
    "    var_hat, history = [], r_train.copy()\n",
    "    for dt, val in r_test.items():\n",
    "        am = arch_model(history, vol=vol, p=p, q=q, o=o, mean=mean, dist=dist, lags=lags)\n",
    "        fixed = am.fix(params)\n",
    "        vf = fixed.forecast(horizon=1).variance.iloc[-1, 0]\n",
    "        var_hat.append(vf)\n",
    "        history = pd.concat([history, pd.Series([val], index=[dt])])\n",
    "    return pd.Series(var_hat, index=r_test.index)\n",
    "\n",
    "def oos_var_forecast_fixed_params_rm2006(r_train, r_test, params, dist_obj):\n",
    "    \"\"\"1-step-ahead OOS variance (fixed params) for IGARCH\"\"\"\n",
    "    var_hat, history = [], r_train.copy()\n",
    "    for dt, val in r_test.items():\n",
    "        m = ConstantMean(history)\n",
    "        m.volatility = RiskMetrics2006()\n",
    "        m.distribution = dist_obj.__class__()\n",
    "        fixed = m.fix(params)\n",
    "        vf = fixed.forecast(horizon=1).variance.iloc[-1, 0]\n",
    "        var_hat.append(vf)\n",
    "        history = pd.concat([history, pd.Series([val], index=[dt])])\n",
    "    return pd.Series(var_hat, index=r_test.index)"
   ]
  },
  {
   "cell_type": "markdown",
   "id": "8b603a74",
   "metadata": {},
   "source": [
    "### 3.2 Create KPI function\n",
    "- Use Variance RMSE when focusing on academics/option pricing.\n",
    "- Use Volatility RMSE when focusing on ease of interpretation/portfolio risk."
   ]
  },
  {
   "cell_type": "code",
   "execution_count": 87,
   "id": "5d188f74",
   "metadata": {},
   "outputs": [],
   "source": [
    "def rmse_variance(var_hat, r_test):\n",
    "    realized_var = r_test**2\n",
    "    return np.sqrt(np.mean((var_hat - realized_var)**2))\n",
    "\n",
    "def rmse_volatility(var_hat, r_test):\n",
    "    vol_hat = np.sqrt(var_hat)\n",
    "    realized_vol = np.sqrt(r_test**2)\n",
    "    \n",
    "    return np.sqrt(np.mean((vol_hat - realized_vol)**2))"
   ]
  },
  {
   "cell_type": "markdown",
   "id": "a6dd9806",
   "metadata": {},
   "source": [
    "### 3.3 Calculate Model"
   ]
  },
  {
   "cell_type": "code",
   "execution_count": null,
   "id": "51cb7f43",
   "metadata": {},
   "outputs": [],
   "source": [
    "# GARCH(1,1)-t\n",
    "am_garch_t  = arch_model(r_train, vol='GARCH', p=1, q=1, mean='Constant', dist='t')\n",
    "res_garch_t = am_garch_t.fit(disp='off')\n",
    "\n",
    "varhat_garch_t = oos_var_forecast_fixed_params_generic(\n",
    "    r_train, r_test, res_garch_t.params, vol='GARCH', p=1, q=1, mean='Constant', dist='t'\n",
    ")\n",
    "rmse_garch_t = rmse_variance(varhat_garch_t, r_test)\n",
    "rmse_garch_t_vol = rmse_volatility(varhat_garch_t, r_test)"
   ]
  },
  {
   "cell_type": "code",
   "execution_count": null,
   "id": "122ae2f2",
   "metadata": {},
   "outputs": [],
   "source": [
    "# GARCH(1,1)-ged\n",
    "am_garch_ged  = arch_model(r_train, vol='GARCH', p=1, q=1, mean='Constant', dist='ged')\n",
    "res_garch_ged = am_garch_ged.fit(disp='off')\n",
    "\n",
    "varhat_garch_ged = oos_var_forecast_fixed_params_generic(\n",
    "    r_train, r_test, res_garch_ged.params, vol='GARCH', p=1, q=1, mean='Constant', dist='ged'\n",
    ")\n",
    "rmse_garch_ged = rmse_variance(varhat_garch_ged, r_test)\n",
    "rmse_garch_ged_vol = rmse_volatility(varhat_garch_ged, r_test)"
   ]
  },
  {
   "cell_type": "code",
   "execution_count": null,
   "id": "161ae2f8",
   "metadata": {},
   "outputs": [],
   "source": [
    "# EGARCH(1,1)-t\n",
    "am_egarch_t  = arch_model(r_train, vol='EGARCH', p=1, q=1, mean='Constant', dist='t')\n",
    "res_egarch_t = am_egarch_t.fit(disp='off')\n",
    "\n",
    "varhat_egarch_t = oos_var_forecast_fixed_params_generic(\n",
    "    r_train, r_test, res_egarch_t.params, vol='EGARCH', p=1, q=1, mean='Constant', dist='t'\n",
    ")\n",
    "rmse_egarch_t = rmse_variance(varhat_egarch_t, r_test)\n",
    "rmse_egarch_t_vol = rmse_volatility(varhat_egarch_t, r_test)"
   ]
  },
  {
   "cell_type": "code",
   "execution_count": null,
   "id": "19d941c9",
   "metadata": {},
   "outputs": [],
   "source": [
    "# EGARCH(1,1)-ged\n",
    "am_egarch_ged  = arch_model(r_train, vol='EGARCH', p=1, q=1, mean='Constant', dist='ged')\n",
    "res_egarch_ged = am_egarch_ged.fit(disp='off')\n",
    "\n",
    "varhat_egarch_ged = oos_var_forecast_fixed_params_generic(\n",
    "    r_train, r_test, res_egarch_ged.params, vol='EGARCH', p=1, q=1, mean='Constant', dist='ged'\n",
    ")\n",
    "rmse_egarch_ged = rmse_variance(varhat_egarch_ged, r_test)\n",
    "rmse_egarch_ged_vol = rmse_volatility(varhat_egarch_ged, r_test)"
   ]
  },
  {
   "cell_type": "code",
   "execution_count": null,
   "id": "e86ae59c",
   "metadata": {},
   "outputs": [],
   "source": [
    "# TGARCH(1,1)-t\n",
    "am_tgarch_t  = arch_model(r_train, vol='GARCH', p=1, o=1, q=1, mean='Constant', dist='t')  # o=1 = GJR term\n",
    "res_tgarch_t = am_tgarch_t.fit(disp='off')\n",
    "\n",
    "varhat_tgarch_t = oos_var_forecast_fixed_params_generic(\n",
    "    r_train, r_test, res_tgarch_t.params, vol='GARCH', p=1, o=1, q=1, mean='Constant', dist='t'\n",
    ")\n",
    "rmse_tgarch_t = rmse_variance(varhat_tgarch_t, r_test)\n",
    "rmse_tgarch_t_vol = rmse_volatility(varhat_tgarch_t, r_test)"
   ]
  },
  {
   "cell_type": "code",
   "execution_count": null,
   "id": "1051e0b3",
   "metadata": {},
   "outputs": [],
   "source": [
    "# TGARCH(1,1)-ged\n",
    "am_tgarch_ged  = arch_model(r_train, vol='GARCH', p=1, o=1, q=1, mean='Constant', dist='ged')\n",
    "res_tgarch_ged = am_tgarch_ged.fit(disp='off')\n",
    "\n",
    "varhat_tgarch_ged = oos_var_forecast_fixed_params_generic(\n",
    "    r_train, r_test, res_tgarch_ged.params, vol='GARCH', p=1, o=1, q=1, mean='Constant', dist='ged'\n",
    ")\n",
    "rmse_tgarch_ged = rmse_variance(varhat_tgarch_ged, r_test)\n",
    "rmse_tgarch_ged_vol = rmse_volatility(varhat_tgarch_ged, r_test)"
   ]
  },
  {
   "cell_type": "code",
   "execution_count": null,
   "id": "6b98122e",
   "metadata": {},
   "outputs": [],
   "source": [
    "# IGARCH(1,1)-t\n",
    "cm_igarch_t = ConstantMean(r_train)\n",
    "cm_igarch_t.volatility   = RiskMetrics2006()   # EWMA = IGARCH(1,1) with ω=0, α+β=1\n",
    "cm_igarch_t.distribution = StudentsT()\n",
    "res_igarch_t = cm_igarch_t.fit(disp='off')\n",
    "\n",
    "varhat_igarch_t = oos_var_forecast_fixed_params_rm2006(\n",
    "    r_train, r_test, res_igarch_t.params, dist_obj=StudentsT()\n",
    ")\n",
    "rmse_igarch_t = rmse_variance(varhat_igarch_t, r_test)\n",
    "rmse_igarch_t_vol = rmse_volatility(varhat_igarch_t, r_test)"
   ]
  },
  {
   "cell_type": "code",
   "execution_count": null,
   "id": "92a59800",
   "metadata": {},
   "outputs": [],
   "source": [
    "# IGARCH(1,1)-ged\n",
    "cm_igarch_ged = ConstantMean(r_train)\n",
    "cm_igarch_ged.volatility   = RiskMetrics2006()\n",
    "cm_igarch_ged.distribution = GeneralizedError()\n",
    "res_igarch_ged = cm_igarch_ged.fit(disp='off')\n",
    "\n",
    "varhat_igarch_ged = oos_var_forecast_fixed_params_rm2006(\n",
    "    r_train, r_test, res_igarch_ged.params, dist_obj=GeneralizedError()\n",
    ")\n",
    "rmse_igarch_ged = rmse_variance(varhat_igarch_ged, r_test)\n",
    "rmse_igarch_ged_vol = rmse_volatility(varhat_igarch_ged, r_test)"
   ]
  },
  {
   "cell_type": "code",
   "execution_count": null,
   "id": "6d0ea968",
   "metadata": {},
   "outputs": [],
   "source": [
    "summary = pd.DataFrame({\n",
    "    \"Model\": [\n",
    "        \"GARCH(1,1)-t\",\n",
    "        \"GARCH(1,1)-GED\",\n",
    "        \"EGARCH(1,1)-t\",\n",
    "        \"EGARCH(1,1)-GED\",\n",
    "        \"TGARCH(1,1)-t\",\n",
    "        \"TGARCH(1,1)-GED\",\n",
    "        \"IGARCH(1,1)-t\",\n",
    "        \"IGARCH(1,1)-GED\",\n",
    "    ],\n",
    "    \"RMSE_Variance\": [\n",
    "        rmse_garch_t,\n",
    "        rmse_garch_ged,\n",
    "        rmse_egarch_t,\n",
    "        rmse_egarch_ged,\n",
    "        rmse_tgarch_t,\n",
    "        rmse_tgarch_ged,\n",
    "        rmse_igarch_t,\n",
    "        rmse_igarch_ged,\n",
    "    ],\n",
    "    \"RMSE_Volatility\": [\n",
    "        rmse_garch_t_vol,\n",
    "        rmse_garch_ged_vol,\n",
    "        rmse_egarch_t_vol,\n",
    "        rmse_egarch_ged_vol,\n",
    "        rmse_tgarch_t_vol,\n",
    "        rmse_tgarch_ged_vol,\n",
    "        rmse_igarch_t_vol,\n",
    "        rmse_igarch_ged_vol\n",
    "    ]\n",
    "})\n",
    "\n",
    "# Ascending order by RMSE_Volatility \n",
    "summary = summary.sort_values(\"RMSE_Volatility\").reset_index(drop=True)"
   ]
  },
  {
   "cell_type": "markdown",
   "id": "e1545b22",
   "metadata": {},
   "source": [
    "## 4. Result\n",
    "- Best GARCH model is EGARCH(1,1) using GED distribution\n",
    "- This means that NVDA has fat tails + slight leverage effect, making the designed model fit asymmetry and heavy tails better than normal GARCH.\n",
    "- RMSE Variance = The forecast model's variance has an average deviation of ~34.66%² (large due to scale).\n",
    "- RMSE Volatility = The forecast model's daily volatility has an average error of ~2.49%."
   ]
  },
  {
   "cell_type": "code",
   "execution_count": 97,
   "id": "9ff28a06",
   "metadata": {},
   "outputs": [
    {
     "name": "stdout",
     "output_type": "stream",
     "text": [
      "             Model  RMSE_Variance  RMSE_Volatility\n",
      "0  EGARCH(1,1)-GED      34.661292         2.493577\n",
      "1    EGARCH(1,1)-t      34.696470         2.529699\n",
      "2   GARCH(1,1)-GED      34.904957         2.544580\n",
      "3  TGARCH(1,1)-GED      34.995504         2.576685\n",
      "4     GARCH(1,1)-t      34.977834         2.590067\n",
      "5  IGARCH(1,1)-GED      34.861759         2.597636\n",
      "6    IGARCH(1,1)-t      34.863725         2.597842\n",
      "7    TGARCH(1,1)-t      35.097358         2.625345\n"
     ]
    }
   ],
   "source": [
    "print(summary)"
   ]
  },
  {
   "cell_type": "markdown",
   "id": "9d3cd9ad",
   "metadata": {},
   "source": [
    "## 5. Conclusion\n",
    "1. Understanding NVDA's Risk Profile\n",
    "    - We learned that NVDA has characteristics of volatility clustering, fat tails, and leverage effects, which capture risk more clearly than simply looking at historical SD.\n",
    "\n",
    "2. Model Benchmarking\n",
    "    - Comparing several GARCH family models (GARCH, EGARCH, TGARCH, IGARCH, using t/GED), we found that EGARCH-GED is the most suitable for NVDA.\n",
    "    - We obtained a baseline model that can be applied to practical applications.\n",
    "\n",
    "3. Practical Risk Forecasting Tool\n",
    "    - We created a pipeline that can accurately forecast the daily volatility of NVDA stocks.\n",
    "    - We can use it in portfolio allocation, VaR, option pricing, and trading strategies."
   ]
  }
 ],
 "metadata": {
  "kernelspec": {
   "display_name": "base",
   "language": "python",
   "name": "python3"
  },
  "language_info": {
   "codemirror_mode": {
    "name": "ipython",
    "version": 3
   },
   "file_extension": ".py",
   "mimetype": "text/x-python",
   "name": "python",
   "nbconvert_exporter": "python",
   "pygments_lexer": "ipython3",
   "version": "3.12.7"
  }
 },
 "nbformat": 4,
 "nbformat_minor": 5
}
